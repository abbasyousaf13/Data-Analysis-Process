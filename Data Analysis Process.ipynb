{
 "cells": [
  {
   "cell_type": "markdown",
   "id": "5d105cb9",
   "metadata": {},
   "source": [
    "### 1 - Asking Questions\n",
    "### 2 - Data Wrangling / Data Munging\n",
    "### 3 - Exploratory Data Analysis\n",
    "### 4 - Drawing Conclusions\n",
    "### 5 - Communicating Results"
   ]
  },
  {
   "cell_type": "markdown",
   "id": "e26810f2",
   "metadata": {},
   "source": [
    "   ##        - Asking Qustions\n",
    "\n",
    "- What features or columns will contribute to my analysis?\n",
    "- What features are not important for my analysis?\n",
    "- Which of the features have a strong correlation?\n",
    "- Do I need data preprocessing?\n",
    "- If I required data preprocessing than what kind of feature manipulation/engineering is required?"
   ]
  },
  {
   "cell_type": "markdown",
   "id": "fb039419",
   "metadata": {},
   "source": [
    "   ##   - Data Wrangling / Data Munging\n",
    "\n",
    "- Gathering data         ( CSV file, API, Web Scrapping, Databases )\n",
    "- Assessing data\n",
    "                   * Finding the number of rows/columns ( shape )\n",
    "                   * Data types of various columns ( info() )\n",
    "                   * Checking for missing values ( info() )\n",
    "                   * Check for duplicate data ( is_unique )\n",
    "                   * Memory occupied by the dataset ( info )\n",
    "                   * High level mathematical overview of the data ( describe )\n",
    "- Cleaning data\n",
    "                   * Missing data (e.g mean, median, mode) - you decide from with to replace this missing data\n",
    "                   * Remove duplicate data ( drop_duplicates )\n",
    "                   * Incorrect data type ( astype ) e.g if you have a column of datetime and its type is string than you can                        convert it in datetime type so that you can use its features more conveniently"
   ]
  },
  {
   "cell_type": "markdown",
   "id": "f357b529",
   "metadata": {},
   "source": [
    "   ## 3 - Exploratory Data Analysis\n",
    "\n",
    "- Exploring data\n",
    "                   * Finding correlation and covariance between two columns\n",
    "                   * Doing Univariate ( value_counts() or plotting histogram) and Multivairate analysis ( scatter plot to see \n",
    "                                                                  if their is any linear relation between two columns or not)\n",
    "                   * Plotting graphs ( Matplotlib or Seaborn )\n",
    "\n",
    "- Augmenting data / Feature Engineering\n",
    "                   * Identifying and removing outliers ( boxplot )\n",
    "                   * Merging two or more dataframes because you are unable to find relevant information from one dataframe\n",
    "                   * Adding new columns"
   ]
  },
  {
   "cell_type": "markdown",
   "id": "b385f47d",
   "metadata": {},
   "source": [
    "   ##     4 - Drawing Conclusions\n",
    "- Machine Learning\n",
    "- Inferential Statistics\n",
    "- Descriptive Statistics\n",
    "                   * Is Rohit Sharma a better batsamn in 2nd innings? ( IPL dataset )    -   Pie Chart\n",
    "                   * Does being a female increases your chances of survival ( Titanic dataset ) - Plot graph and you'll get a                                                                                                                       answer\n",
    "                   * Is Delhi the most costly place for eating out? ( Zomato dataset ) - Plot graph and fetch your answer"
   ]
  },
  {
   "cell_type": "markdown",
   "id": "21500d74",
   "metadata": {},
   "source": [
    "   ##                        5 - Communicating Results / Data Storytelling\n",
    "- Deploying your model\n",
    "- PPTs / Slide decks\n",
    "- Blog Posts\n",
    "- Reports"
   ]
  },
  {
   "cell_type": "code",
   "execution_count": null,
   "id": "68c220d8",
   "metadata": {},
   "outputs": [],
   "source": []
  }
 ],
 "metadata": {
  "kernelspec": {
   "display_name": "Python 3 (ipykernel)",
   "language": "python",
   "name": "python3"
  },
  "language_info": {
   "codemirror_mode": {
    "name": "ipython",
    "version": 3
   },
   "file_extension": ".py",
   "mimetype": "text/x-python",
   "name": "python",
   "nbconvert_exporter": "python",
   "pygments_lexer": "ipython3",
   "version": "3.9.7"
  }
 },
 "nbformat": 4,
 "nbformat_minor": 5
}
